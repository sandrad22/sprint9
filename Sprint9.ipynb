{
 "cells": [
  {
   "cell_type": "code",
   "execution_count": 1,
   "id": "e7d85b03-9d80-447b-be5c-9c830e898e85",
   "metadata": {},
   "outputs": [
    {
     "name": "stdin",
     "output_type": "stream",
     "text": [
      "Introduce tu peso en kg:  45\n",
      "Introduce tu altura en metros:  1.34\n"
     ]
    },
    {
     "name": "stdout",
     "output_type": "stream",
     "text": [
      "\n",
      "Sobrepeso. Tu IMC es de 25.1\n"
     ]
    }
   ],
   "source": [
    "#Calculadora de l'índex de massa corporal\n",
    " #Escriu una funció que calculi l'IMC ingressat per l'usuari/ària, és a dir, qui ho executi haurà d'ingressar aquestes dades.\n",
    " #Pots obtenir més informació del seu càlcul en: IMC = peso / altura^2\n",
    " #La funció ha de classificar el resultat en les seves respectives categories: \n",
    "     # Bajo peso: menos de 18,5 - Peso normal: 18,5-24,9 - Sobrepeso: 25-29,9 - Obesidad: más de 30.\n",
    " #Consell: Intenta validar les dades prèviament, perquè enviï un missatge d’advertència si les dades introduïdes per l’usuari/a no\n",
    " #estan en el format adequat o no pren valors raonables\n",
    "\n",
    "peso = float(input(\"Introduce tu peso en kg: \"))\n",
    "while peso >= 300 or peso <= 30:\n",
    "   print(\"El valor que has introducido es incorrecto\")\n",
    "   print()\n",
    "   peso = float(input(\"Introduce tu peso en kg (Ejemplos: 59.2, 82 o 103.80): \"))\n",
    "\n",
    "altura = float(input(\"Introduce tu altura en metros: \"))\n",
    "while altura >= 2.3 or altura <= 0.90:\n",
    "   print(\"El valor que has introducido es incorrecto\")\n",
    "   print()\n",
    "   altura = float(input(\"Introduce tu altura en metros (Ejemplos: 1.64, 1.8 o 2.01): \"))\n",
    "\n",
    "imc = peso / (altura**2)\n",
    "\n",
    "if imc < 18.5:\n",
    "   print()\n",
    "   print(\"Bajo peso. Tu IMC es de\", round(imc,1))\n",
    "elif imc >= 18.5 and imc <=24.9:\n",
    "   print()\n",
    "   print(\"Peso normal. Tu IMC es de\", round(imc,1))\n",
    "elif imc >= 25 and imc <=29.9:\n",
    "   print()\n",
    "   print(\"Sobrepeso. Tu IMC es de\", round(imc,1))\n",
    "elif imc >= 30:\n",
    "   print()\n",
    "   print(\"Obesidad. Tu IMC es de\", round(imc,1))"
   ]
  },
  {
   "cell_type": "code",
   "execution_count": 6,
   "id": "a69cfd15-ca5f-4ccc-8a3c-1a4c92b4a917",
   "metadata": {},
   "outputs": [
    {
     "name": "stdin",
     "output_type": "stream",
     "text": [
      "En qué unidad vas a introducir el valor de la temperatura? \n",
      "    Introduce 'C' para Celsius, 'F' para Fahrenheit, 'K' para Kelvin:  r\n"
     ]
    },
    {
     "name": "stdout",
     "output_type": "stream",
     "text": [
      "El valor que has introducido es incorrecto\n",
      "\n"
     ]
    },
    {
     "name": "stdin",
     "output_type": "stream",
     "text": [
      "Introduce 'C' para Celsius, 'F' para Fahrenheit, 'K' para Kelvin :  a\n"
     ]
    },
    {
     "name": "stdout",
     "output_type": "stream",
     "text": [
      "El valor que has introducido es incorrecto\n",
      "\n"
     ]
    },
    {
     "name": "stdin",
     "output_type": "stream",
     "text": [
      "Introduce 'C' para Celsius, 'F' para Fahrenheit, 'K' para Kelvin :  k\n"
     ]
    }
   ],
   "source": [
    "#Existeixen diverses unitats de temperatura utilitzades en diferents contextos i regions. Les més comunes són Celsius (°C),\n",
    "# Fahrenheit (°F) i Kelvin (K). També existeixen altres unitats com Rankine (°Ra) i Réaumur (°Re).\n",
    "# Selecciona almenys 2 conversors, de tal manera que en introduir una temperatura retorni, com a mínim, dues conversions, de\n",
    "# manera que es puguin guardar (recorda que un print() no es pot guardar mai).\n",
    "# Consell: Intenta validar les dades prèviament, perquè enviï un missatge d’advertència si les dades introduides per l’usuari/a no\n",
    "# estan en el format adequat.\n",
    "# (EXTRA): Pensa una manera d’emmagatzemar totes les possibles conversions en un sol objecte (Llista? Diccionari?\n",
    "# DataFrame?) en comptes d’escriure molts if else en funció de la temperatura d’origen i la temperatura de destí.\n",
    "\n",
    "\n",
    "unidad_temp = input(\"En qué unidad vas a introducir el valor de la temperatura? \\n    Introduce 'C' para Celsius, 'F' para Fahrenheit, 'K' para Kelvin: \")\n",
    "unidad_minusc = unidad_temp.lower()\n",
    "\n",
    "while unidad_minusc != \"c\" and unidad_minusc != \"f\" and unidad_minusc != \"k\":\n",
    "    print(\"El valor que has introducido es incorrecto\")\n",
    "    print()\n",
    "    unidad_temp = input(\"Introduce 'C' para Celsius, 'F' para Fahrenheit, 'K' para Kelvin : \")\n",
    "    unidad_minusc = unidad_temp.lower()\n",
    "\n",
    "valor_temp = input(\"Cuál es el valor de la temperatura?\")\n",
    "\n",
    "if unidad_minusc ='c':\n",
    "    c = valor_temp\n",
    "    f = (c * 1.8) + 32\n",
    "    k = c + 273.15\n",
    "\n",
    "\n",
    "dicc_conversor = {“Celsius”: , “Fahrenheit”: , “Kelvin”: }\n",
    "print(dicc_conversor)\n",
    "\n"
   ]
  },
  {
   "cell_type": "code",
   "execution_count": null,
   "id": "513f8bad-bffb-4315-946c-5817803f89fe",
   "metadata": {},
   "outputs": [],
   "source": []
  }
 ],
 "metadata": {
  "kernelspec": {
   "display_name": "Python 3 (ipykernel)",
   "language": "python",
   "name": "python3"
  },
  "language_info": {
   "codemirror_mode": {
    "name": "ipython",
    "version": 3
   },
   "file_extension": ".py",
   "mimetype": "text/x-python",
   "name": "python",
   "nbconvert_exporter": "python",
   "pygments_lexer": "ipython3",
   "version": "3.13.5"
  }
 },
 "nbformat": 4,
 "nbformat_minor": 5
}
