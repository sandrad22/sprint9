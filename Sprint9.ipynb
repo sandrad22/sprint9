{
 "cells": [
  {
   "cell_type": "code",
   "execution_count": 42,
   "id": "586a2921-995d-4b74-9861-8f2192c0dda6",
   "metadata": {},
   "outputs": [
    {
     "name": "stdin",
     "output_type": "stream",
     "text": [
      "Introduce tu peso en kg:  22\n"
     ]
    },
    {
     "name": "stdout",
     "output_type": "stream",
     "text": [
      "El valor que has introducido es incorrecto\n",
      "\n"
     ]
    },
    {
     "name": "stdin",
     "output_type": "stream",
     "text": [
      "Introduce tu peso en kg (Ejemplos: 59.2, 82 o 103.80):  52\n",
      "Introduce tu altura en metros:  1.65\n"
     ]
    },
    {
     "name": "stdout",
     "output_type": "stream",
     "text": [
      "\n",
      "Peso normal. Tu IMC es de  19.1\n"
     ]
    }
   ],
   "source": [
    "#Calculadora de l'índex de massa corporal\n",
    " #Escriu una funció que calculi l'IMC ingressat per l'usuari/ària, és a dir, qui ho executi haurà d'ingressar aquestes dades.\n",
    " #Pots obtenir més informació del seu càlcul en: IMC = peso / altura^2\n",
    " #La funció ha de classificar el resultat en les seves respectives categories: \n",
    "     # Bajo peso: menos de 18,5 - Peso normal: 18,5-24,9 - Sobrepeso: 25-29,9 - Obesidad: más de 30.\n",
    " #Consell: Intenta validar les dades prèviament, perquè enviï un missatge d’advertència si les dades introduïdes per l’usuari/a no\n",
    " #estan en el format adequat o no pren valors raonables\n",
    "\n",
    "peso = float(input(\"Introduce tu peso en kg: \"))\n",
    "while peso >= 300 or peso <= 30:\n",
    "   print(\"El valor que has introducido es incorrecto\")\n",
    "   print()\n",
    "   peso = float(input(\"Introduce tu peso en kg (Ejemplos: 59.2, 82 o 103.80): \"))\n",
    "\n",
    "altura = float(input(\"Introduce tu altura en metros: \"))\n",
    "while altura >= 2.4 or altura <= 0.90:\n",
    "   print(\"El valor que has introducido es incorrecto\")\n",
    "   print()\n",
    "   altura = float(input(\"Introduce tu altura en metros (Ejemplos: 1.64, 1.8 o 2.01): \"))\n",
    "\n",
    "imc = peso / (altura**2)\n",
    "\n",
    "if imc < 18.5:\n",
    "   print()\n",
    "   print(\"Bajo peso. Tu IMC es de\", round(imc,1))\n",
    "elif imc >= 18.5 and imc <=24.9:\n",
    "   print()\n",
    "   print(\"Peso normal. Tu IMC es de\", round(imc,1))\n",
    "elif imc >= 25 and imc <=29.9:\n",
    "   print()\n",
    "   print(\"Sobrepeso. Tu IMC es de\", round(imc,1))\n",
    "elif imc >= 30:\n",
    "   print()\n",
    "   print(\"Obesidad. Tu IMC es de\", round(imc,1))\n",
    "\n",
    "\n",
    "\n"
   ]
  },
  {
   "cell_type": "code",
   "execution_count": null,
   "id": "fd3f9e4f-0cf2-4e9c-af59-6f88dbae560f",
   "metadata": {},
   "outputs": [],
   "source": []
  }
 ],
 "metadata": {
  "kernelspec": {
   "display_name": "Python 3 (ipykernel)",
   "language": "python",
   "name": "python3"
  },
  "language_info": {
   "codemirror_mode": {
    "name": "ipython",
    "version": 3
   },
   "file_extension": ".py",
   "mimetype": "text/x-python",
   "name": "python",
   "nbconvert_exporter": "python",
   "pygments_lexer": "ipython3",
   "version": "3.13.5"
  }
 },
 "nbformat": 4,
 "nbformat_minor": 5
}
