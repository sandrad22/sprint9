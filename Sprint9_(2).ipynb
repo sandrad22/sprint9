{
  "cells": [
    {
      "cell_type": "code",
      "execution_count": null,
      "id": "38aa6c0e-46aa-4c68-a242-8d9113a8c1d4",
      "metadata": {
        "id": "38aa6c0e-46aa-4c68-a242-8d9113a8c1d4"
      },
      "outputs": [],
      "source": [
        "\n",
        "######################### NIVELL 1 #############################\n"
      ]
    },
    {
      "cell_type": "code",
      "execution_count": null,
      "id": "e7d85b03-9d80-447b-be5c-9c830e898e85",
      "metadata": {
        "id": "e7d85b03-9d80-447b-be5c-9c830e898e85"
      },
      "outputs": [],
      "source": [
        "\n",
        "# Exercici 1.- Calculadora de l'índex de massa corporal ###################################################\n",
        "\n",
        " #Escriu una funció que calculi l'IMC ingressat per l'usuari/ària, és a dir, qui ho executi haurà d'ingressar aquestes dades.\n",
        " #Pots obtenir més informació del seu càlcul en: IMC = peso / altura^2\n",
        " #La funció ha de classificar el resultat en les seves respectives categories:\n",
        "     # Bajo peso: menos de 18,5 - Peso normal: 18,5-24,9 - Sobrepeso: 25-29,9 - Obesidad: más de 30.\n",
        " #Consell: Intenta validar les dades prèviament, perquè enviï un missatge d’advertència si les dades introduïdes per l’usuari/a no\n",
        " #estan en el format adequat o no pren valors raonables\n",
        "\n",
        "peso = float(input(\"Introduce tu peso en kg: \"))\n",
        "while peso >= 300 or peso <= 30:\n",
        "   print(\"El peso que has introducido no es válido\")\n",
        "   print()\n",
        "   peso = float(input(\"Introduce tu peso en kg (Ejemplos: 59.2, 82 o 103.80): \"))\n",
        "\n",
        "altura = float(input(\"Introduce tu altura en metros: \"))\n",
        "while altura >= 2.3 or altura <= 0.90:\n",
        "   print(\"La altura que has introducido no es válida\")\n",
        "   print()\n",
        "   altura = float(input(\"Introduce tu altura en metros (Ejemplos: 1.64, 1.8 o 2.01): \"))\n",
        "\n",
        "imc = peso / (altura**2)\n",
        "\n",
        "if imc < 18.5:\n",
        "   print()\n",
        "   print(\"Bajo peso. Tu IMC es de\", round(imc,1))\n",
        "elif imc >= 18.5 and imc <=24.9:\n",
        "   print()\n",
        "   print(\"Peso normal. Tu IMC es de\", round(imc,1))\n",
        "elif imc >= 25 and imc <=29.9:\n",
        "   print()\n",
        "   print(\"Sobrepeso. Tu IMC es de\", round(imc,1))\n",
        "elif imc >= 30:\n",
        "   print()\n",
        "   print(\"Obesidad. Tu IMC es de\", round(imc,1))\n",
        "\n",
        "\n",
        "\"\"\"\n",
        "# Calculadora de l'índex de massa corporal (IMC)\n",
        "\n",
        "def leer_peso():\n",
        "    while True:\n",
        "        try:\n",
        "            peso = float(input(\"Introduce tu peso en kg (Ejemplos: 59.2, 82, 103.8): \"))\n",
        "            if 30 <= peso <= 300:\n",
        "                return peso\n",
        "            else:\n",
        "                print(\"❌ El peso debe estar entre 30 y 300 kg.\")\n",
        "        except ValueError:\n",
        "            print(\"❌ Entrada no válida. Debes introducir un número.\")\n",
        "\n",
        "\n",
        "def leer_altura():\n",
        "    while True:\n",
        "        try:\n",
        "            altura = float(input(\"Introduce tu altura en metros (Ejemplos: 1.64, 1.8, 2.01): \"))\n",
        "            if 0.90 <= altura <= 2.30:\n",
        "                return altura\n",
        "            else:\n",
        "                print(\"❌ La altura debe estar entre 0.90 m y 2.30 m.\")\n",
        "        except ValueError:\n",
        "            print(\"❌ Entrada no válida. Debes introducir un número.\")\n",
        "\n",
        "\n",
        "# Obtener datos del usuario\n",
        "peso = leer_peso()\n",
        "altura = leer_altura()\n",
        "\n",
        "# Calcular IMC\n",
        "imc = peso / (altura ** 2)\n",
        "imc_redondeado = round(imc, 1)\n",
        "\n",
        "# Clasificar resultado\n",
        "print(\"\\nTu IMC es:\", imc_redondeado)\n",
        "\n",
        "if imc < 18.5:\n",
        "    print(\"➡️ Bajo peso\")\n",
        "elif imc < 25:\n",
        "    print(\"✅ Peso normal\")\n",
        "elif imc < 30:\n",
        "    print(\"⚠️ Sobrepeso\")\n",
        "else:\n",
        "    print(\"❗ Obesidad\")\n",
        "\"\"\"\n",
        "\n",
        "\n"
      ]
    },
    {
      "cell_type": "code",
      "execution_count": null,
      "id": "a69cfd15-ca5f-4ccc-8a3c-1a4c92b4a917",
      "metadata": {
        "id": "a69cfd15-ca5f-4ccc-8a3c-1a4c92b4a917"
      },
      "outputs": [],
      "source": [
        "\n",
        "# Exercici 2.- Convertidor de temperatures ###################################################\n",
        "\n",
        "#Existeixen diverses unitats de temperatura utilitzades en diferents contextos i regions. Les més comunes són Celsius (°C),\n",
        "# Fahrenheit (°F) i Kelvin (K). També existeixen altres unitats com Rankine (°Ra) i Réaumur (°Re).\n",
        "# Selecciona almenys 2 conversors, de tal manera que en introduir una temperatura retorni, com a mínim, dues conversions, de\n",
        "# manera que es puguin guardar (recorda que un print() no es pot guardar mai).\n",
        "# Consell: Intenta validar les dades prèviament, perquè enviï un missatge d’advertència si les dades introduides per l’usuari/a no\n",
        "# estan en el format adequat.\n",
        "# (EXTRA): Pensa una manera d’emmagatzemar totes les possibles conversions en un sol objecte (Llista? Diccionari?\n",
        "# DataFrame?) en comptes d’escriure molts if else en funció de la temperatura d’origen i la temperatura de destí.\n",
        "\n",
        "\n",
        "# Leer la unidad de temperatura ##############################\n",
        "\n",
        "while True:                 # True siempre en marcha\n",
        "    unidad_temp = input(\"Introduce la unidad de la temperatura:  \\n    Introduce 'C' para Celsius, 'F' para Fahrenheit, 'K' para Kelvin : \").strip().lower()\n",
        "    if unidad_temp in ['c', 'f', 'k']:                  # strip() elimina espacios anteriores y posteriores y lower() convierte en minusculas\n",
        "        break               # sale cuando el valor es uno de los especificados\n",
        "    print(\"\\nLa unidad que has introducido no es válida.\\n\")\n",
        "\n",
        "\n",
        "# Leer el valor de la temperatura #############################\n",
        "\n",
        "print()\n",
        "\n",
        "\n",
        "limites = {                     # Se ponen límites a los valores: no pueden estar por debajo del cero absoluto de cada unidad\n",
        "    'c': -273.15,\n",
        "    'f': -459.67,\n",
        "    'k': 0\n",
        "}\n",
        "\n",
        "while True:\n",
        "    try:\n",
        "        valor_temp = float(input(\"Introduce el valor de la temperatura: \"))\n",
        "        if valor_temp < limites[unidad_temp]:\n",
        "            print(f\"El valor que has introducido está por debajo del cero absoluto para esa unidad.\")\n",
        "            print(f\"Debe ser mayor o igual a {limites[unidad_temp]:.2f}\\n\")\n",
        "        else:\n",
        "            break\n",
        "    except ValueError:\n",
        "        print(\"El valor que has introducido no es válido. Introduce un número: \")\n",
        "\n",
        "\n",
        "# Conversión ################################################\n",
        "\n",
        "dicc_conversor = {}\n",
        "\n",
        "if unidad_temp =='c':\n",
        "    dicc_conversor['Celsius'] = valor_temp\n",
        "    dicc_conversor['Fahrenheit'] = (valor_temp * 1.8) + 32\n",
        "    dicc_conversor['Kelvin'] = valor_temp + 273.15\n",
        "\n",
        "elif unidad_temp =='f':\n",
        "    dicc_conversor['Fahrenheit'] = valor_temp\n",
        "    celsius = (valor_temp - 32) / 1.8\n",
        "    dicc_conversor['Celsius'] =  celsius\n",
        "    dicc_conversor['Kelvin'] = celsius + 273.15\n",
        "\n",
        "elif unidad_temp =='k':\n",
        "    dicc_conversor['Kelvin'] = valor_temp\n",
        "    celsius = valor_temp - 273.15\n",
        "    dicc_conversor['Celsius'] = celsius\n",
        "    dicc_conversor['Fahrenheit'] = (celsius * 1.8) + 32\n",
        "\n",
        "\n",
        "# Mostrar resultados #######################################\n",
        "\n",
        "print()\n",
        "print(\"\\nResultados de la conversión:\")\n",
        "for unidad, valor in dicc_conversor.items():\n",
        "    print(f\"{unidad}: {valor:.2f}\")\n",
        "\n",
        "\n",
        "\n"
      ]
    },
    {
      "cell_type": "code",
      "execution_count": 46,
      "id": "1ca84556-21a7-4e09-b702-eb61ee67dc8b",
      "metadata": {
        "colab": {
          "base_uri": "https://localhost:8080/"
        },
        "id": "1ca84556-21a7-4e09-b702-eb61ee67dc8b",
        "outputId": "2b9d60da-964a-4ef4-9ed6-e87910132cc0"
      },
      "outputs": [
        {
          "output_type": "stream",
          "name": "stdout",
          "text": [
            "Introduce el texto: la, la,la,la.La, casa     casa la, la casa     de\n",
            "\n",
            "\n",
            "Palabras contadas: \n",
            "\n",
            "la: 7\n",
            "casa: 3\n",
            "de: 1\n",
            "\n",
            "\n",
            "Longitud media de las palabras: 2.55 letras\n",
            "\n"
          ]
        }
      ],
      "source": [
        "\n",
        "# Exercici 3.- Comptador de paraules d'un text #################################\n",
        "\n",
        " #Escriu una funció que donat un text, mostri les vegades que apareix cada paraula. Intenta que es gestionin totes les\n",
        " #casuístiques possibles que facin que el programa no funcioni correctament.\n",
        " #(EXTRA): Quina és la llargada mitjana de les paraules del text que has escrit? “Hola com va?” hauria de retornar (4+3+2) / 3 = 3\n",
        "\n",
        "import string\n",
        "\n",
        "texto = input(\"Introduce el texto: \")\n",
        "\n",
        "\n",
        "# Reemplazar cualquier signo de puntuación por espacios ##########################\n",
        "    #(reemplazar por espacios para tener en cuenta cuando se ponen signos de puntuación y no se deja espacio entre las palabras)\n",
        "\n",
        "palabras = texto.translate(str.maketrans({c: ' ' for c in string.punctuation})).lower().split()\n",
        "\n",
        "\n",
        "# Contar palabras #############################\n",
        "\n",
        "dicc_palabras = {}\n",
        "\n",
        "for palabra in palabras:\n",
        "    dicc_palabras[palabra] = dicc_palabras.get(palabra, 0) + 1           # get() para acceder a los valores del diccionario\n",
        "\n",
        "print()\n",
        "print(\"\\nPalabras contadas: \\n\")\n",
        "for palabra, contar in dicc_palabras.items():\n",
        "    print(f\"{palabra}: {contar}\")\n",
        "\n",
        "\n",
        "# Calcular media palabras ###########################\n",
        "\n",
        "tot_letras = sum(len(palabra) for palabra in palabras)\n",
        "num_palabras = len(palabras)\n",
        "\n",
        "media_x_palabra = tot_letras / num_palabras\n",
        "\n",
        "print()\n",
        "print(f\"\\nLongitud media de las palabras: {media_x_palabra:.2f} letras\\n\")\n",
        "\n"
      ]
    },
    {
      "cell_type": "code",
      "execution_count": 44,
      "id": "f5f49279-1957-4fb0-84b6-5ad0affc7606",
      "metadata": {
        "colab": {
          "base_uri": "https://localhost:8080/"
        },
        "id": "f5f49279-1957-4fb0-84b6-5ad0affc7606",
        "outputId": "ca352906-2cea-440f-af40-67d7f0d11033"
      },
      "outputs": [
        {
          "output_type": "stream",
          "name": "stdout",
          "text": [
            "ADVERTENCIA: La clave 'naranja' aparece 2 veces con los valores asociados ['y', 'z'].\n",
            "ADVERTENCIA: La clave 'manzana' aparece 3 veces con los valores asociados ['t', 'u', 'v'].\n",
            "\n",
            "\n",
            "Diccionario invertido:\n",
            "\n",
            "{'melón': ['x'], 'naranja': ['y', 'z'], 'manzana': ['t', 'u', 'v'], 'fresa': ['w']}\n"
          ]
        }
      ],
      "source": [
        "\n",
        "# Exercici 4.- Diccionari invers (amb possibilitat de duplicats)  #################################\n",
        "\n",
        " #Resulta que el client té una enquesta molt antiga que s'emmagatzema en un diccionari i els resultats els necessita al revés,\n",
        " #és a dir, intercanviant les claus i els valors. Els valors i claus en el diccionari original són únics; si aquest no és el cas, la funció\n",
        " #hauria d'imprimir un missatge d'advertiment, juntament amb una llista amb els valors associats a la clau repetida.\n",
        "\n",
        "dicc = {\"x\": \"melón\", \"y\": \"naranja\", \"z\": \"naranja\", \"t\":\"manzana\", \"u\":\"manzana\", \"v\": \"manzana\", \"w\": \"fresa\" }\n",
        "\n",
        "revers_dicc = {}\n",
        "\n",
        "for clave, valor in dicc.items():\n",
        "      if valor not in revers_dicc:\n",
        "          revers_dicc[valor] = []\n",
        "      revers_dicc[valor].append(clave)\n",
        "\n",
        "\n",
        "for valor, claves in revers_dicc.items():\n",
        "    if len(claves) > 1:\n",
        "        print(f\"ADVERTENCIA: La clave '{valor}' aparece {len(claves)} veces con los valores asociados {revers_dicc[valor]}.\")\n",
        "\n",
        "print()\n",
        "print(\"\\nDiccionario invertido:\\n\")\n",
        "print(revers_dicc)\n",
        "\n"
      ]
    },
    {
      "cell_type": "code",
      "execution_count": 42,
      "id": "4291dfbb-6c52-4b60-aeb6-905670ac3210",
      "metadata": {
        "colab": {
          "base_uri": "https://localhost:8080/"
        },
        "id": "4291dfbb-6c52-4b60-aeb6-905670ac3210",
        "outputId": "22861c69-6099-4e81-ec9a-a023c94d8c59"
      },
      "outputs": [
        {
          "output_type": "stream",
          "name": "stdout",
          "text": [
            "ADVERTENCIA: El valor 'naranja' aparece 2 veces, asociado a las claves: ['y', 'z']\n",
            "ADVERTENCIA: El valor 'manzana' aparece 3 veces, asociado a las claves: ['t', 'u', 'v']\n",
            "\n",
            "\n",
            "Diccionario invertido:\n",
            "\n",
            "{'melón': ['x'], 'naranja': ['y', 'z'], 'manzana': ['t', 'u', 'v'], 'fresa': ['w']}\n"
          ]
        }
      ],
      "source": [
        "# Exercici 4. Solución más avanzada ####################\n",
        "\n",
        "dicc = {\n",
        "    \"x\": \"melón\", \"y\": \"naranja\", \"z\": \"naranja\",\n",
        "    \"t\": \"manzana\", \"u\": \"manzana\", \"v\": \"manzana\",\n",
        "    \"w\": \"fresa\"\n",
        "}\n",
        "\n",
        "\n",
        "def invertir_diccionario(dicc):\n",
        "\n",
        "    revers_dicc = {}\n",
        "\n",
        "    for clave, valor in dicc.items():\n",
        "        if valor not in revers_dicc:\n",
        "            revers_dicc[valor] = [clave]\n",
        "        else:\n",
        "            revers_dicc[valor].append(clave)\n",
        "\n",
        "    # Mostrar advertencias al final\n",
        "    for valor in revers_dicc:\n",
        "        if len(revers_dicc[valor]) > 1:\n",
        "            print(f\"ADVERTENCIA: El valor '{valor}' aparece {len(revers_dicc[valor])} veces, asociado a las claves: {revers_dicc[valor]}\")\n",
        "\n",
        "    return revers_dicc\n",
        "\n",
        "\n",
        "dicc_invertido = invertir_diccionario(dicc)\n",
        "\n",
        "print()\n",
        "print(\"\\nDiccionario invertido:\\n\")\n",
        "print(dicc_invertido)\n"
      ]
    },
    {
      "cell_type": "code",
      "execution_count": null,
      "id": "b4f342e4-a21b-45f6-9d13-b89c3e921398",
      "metadata": {
        "id": "b4f342e4-a21b-45f6-9d13-b89c3e921398"
      },
      "outputs": [],
      "source": []
    },
    {
      "cell_type": "code",
      "execution_count": null,
      "id": "06b6f1be-c900-4502-a3c7-d70e8d9986f6",
      "metadata": {
        "id": "06b6f1be-c900-4502-a3c7-d70e8d9986f6",
        "outputId": "05e0139b-c6ac-4d09-9dd2-b7c6f83876f4"
      },
      "outputs": [
        {
          "name": "stdout",
          "output_type": "stream",
          "text": [
            "Hola, Juan. Tienes 30 años.\n"
          ]
        }
      ],
      "source": [
        "    import string\n",
        "\n",
        "    plantilla = string.Template(\"Hola, $nombre. Tienes $edad años.\")\n",
        "    datos = {\"nombre\": \"Juan\", \"edad\": 30}\n",
        "    mensaje = plantilla.substitute(datos)\n",
        "    print(mensaje)"
      ]
    },
    {
      "cell_type": "code",
      "execution_count": null,
      "id": "d967f7bc-838c-4507-a7d4-e2cec560edb1",
      "metadata": {
        "id": "d967f7bc-838c-4507-a7d4-e2cec560edb1"
      },
      "outputs": [],
      "source": [
        "def food_item(prefer):\n",
        "    if prefer == \"v\":\n",
        "        print(\"comeras calabaza\")\n",
        "    elif prefer == \"c\":\n",
        "        print(\"comeras chuleta\")\n",
        "    else:\n",
        "        print(\"opcion no valida\")\n",
        "\n",
        "user_prefer = input(\"que menu eliges: vegetal o carne?\")\n",
        "print(\"\")\n",
        "\n",
        "food_item(user_prefer)\n",
        "\n",
        "\n",
        "#############################################################\n",
        "\n",
        "\n",
        "txt = \"El mar esta tranquilo\"\n",
        "print(\"mar\" in txt)\n",
        "\n",
        "a = 21\n",
        "b = 10\n",
        "c = 0\n",
        "\n",
        "d = 3 + 2\n",
        "c = a + b\n",
        "print (\"d: {} b: {} c: {}\".format(d,b,c))\n",
        "print (\"a: {} b: {} c: {}\".format(a,b,c))\n",
        "\n"
      ]
    },
    {
      "cell_type": "code",
      "source": [],
      "metadata": {
        "id": "fkNzX4gkbStm"
      },
      "id": "fkNzX4gkbStm",
      "execution_count": null,
      "outputs": []
    },
    {
      "cell_type": "code",
      "source": [],
      "metadata": {
        "id": "A4T74dN9bTBm"
      },
      "id": "A4T74dN9bTBm",
      "execution_count": null,
      "outputs": []
    },
    {
      "cell_type": "code",
      "source": [],
      "metadata": {
        "id": "yRpuivWHbTKP"
      },
      "id": "yRpuivWHbTKP",
      "execution_count": null,
      "outputs": []
    },
    {
      "cell_type": "code",
      "source": [],
      "metadata": {
        "id": "5JzRRd08bTN0"
      },
      "id": "5JzRRd08bTN0",
      "execution_count": null,
      "outputs": []
    },
    {
      "cell_type": "code",
      "source": [],
      "metadata": {
        "id": "p_1kon2TbTRT"
      },
      "id": "p_1kon2TbTRT",
      "execution_count": null,
      "outputs": []
    },
    {
      "cell_type": "code",
      "source": [],
      "metadata": {
        "id": "DDe7daU-bTUs"
      },
      "id": "DDe7daU-bTUs",
      "execution_count": null,
      "outputs": []
    },
    {
      "cell_type": "code",
      "source": [],
      "metadata": {
        "id": "S6hT8p4WbTXt"
      },
      "id": "S6hT8p4WbTXt",
      "execution_count": null,
      "outputs": []
    },
    {
      "cell_type": "code",
      "source": [],
      "metadata": {
        "id": "lbjBPK0abTd9"
      },
      "id": "lbjBPK0abTd9",
      "execution_count": null,
      "outputs": []
    },
    {
      "cell_type": "code",
      "execution_count": null,
      "id": "59b27afb-8f71-49ff-8740-0729025770b5",
      "metadata": {
        "id": "59b27afb-8f71-49ff-8740-0729025770b5"
      },
      "outputs": [],
      "source": [
        "def factorial(n):\n",
        "   if n < 0:\n",
        "      return \"no se puede calcular. La función factorial no está definida para números negativos\"\n",
        "   result = 1\n",
        "   for i in range(1, n + 1):\n",
        "      result *= i\n",
        "   return result\n",
        "\n",
        "num = int(input(\"Introduce el numero del cual quieres calcular el factorial: \"))\n",
        "print(f\"El factorial de {num} es {factorial(num)}\")\n",
        "\n",
        "\n"
      ]
    },
    {
      "cell_type": "code",
      "execution_count": null,
      "id": "f6a2c297-0e3c-45d4-ac52-a2cfa4962035",
      "metadata": {
        "id": "f6a2c297-0e3c-45d4-ac52-a2cfa4962035"
      },
      "outputs": [],
      "source": [
        "import math\n",
        "\n",
        "num = int(input(\"Introduce el numero del cual quieres calcular el factorial: \"))\n",
        "print(f\"El factorial de {num} es {math.factorial(num)}\")\n",
        "\n",
        "pi = math.pi\n",
        "\n",
        "print(\"Este es el número PI:\", pi)"
      ]
    },
    {
      "cell_type": "code",
      "execution_count": null,
      "id": "1db47702-47fb-4048-b804-2d55b67b8bed",
      "metadata": {
        "id": "1db47702-47fb-4048-b804-2d55b67b8bed"
      },
      "outputs": [],
      "source": [
        "num = 98.65787\n",
        "res = round(num,2)\n",
        "# printing the result\n",
        "print (\"The rounded number is:\",res)"
      ]
    },
    {
      "cell_type": "code",
      "execution_count": null,
      "id": "9cef18af-1f43-4675-ab2a-7a4abcb9b034",
      "metadata": {
        "id": "9cef18af-1f43-4675-ab2a-7a4abcb9b034",
        "outputId": "c8ada533-b69c-4f5e-c9f5-d8f76717c024"
      },
      "outputs": [
        {
          "name": "stdout",
          "output_type": "stream",
          "text": [
            "Non-prime numbers between 10 and 30 are:\n",
            "10\n",
            "12\n",
            "14\n",
            "15\n",
            "16\n",
            "18\n",
            "20\n",
            "21\n",
            "22\n",
            "24\n",
            "25\n",
            "26\n",
            "27\n",
            "28\n"
          ]
        }
      ],
      "source": [
        "# import the math library\n",
        "import math\n",
        "\n",
        "# function to print all\n",
        "# non-primes in a range\n",
        "def is_not_prime(n):\n",
        "\n",
        "    # flag to track\n",
        "    # if no. is prime or not\n",
        "    # initially assume all numbers are\n",
        "    # non prime\n",
        "    flag = False\n",
        "\n",
        "    # iterate in the given range\n",
        "    # using for loop starting from 2\n",
        "    # as 0 & 1 are neither prime\n",
        "    # nor composite\n",
        "    for i in range(2, int(math.sqrt(n)) + 1):\n",
        "\n",
        "        # condition to check if a\n",
        "        # number is prime or not\n",
        "        if n % i == 0:\n",
        "            flag = True\n",
        "    return flag\n",
        "\n",
        "# lower bound of the range\n",
        "range_starts = 10\n",
        "\n",
        "# upper bound of the range\n",
        "range_ends = 30\n",
        "print(\"Non-prime numbers between\",range_starts,\"and\", range_ends,\"are:\")\n",
        "\n",
        "for number in filter(is_not_prime, range(range_starts, range_ends)):\n",
        "    print(number)\n",
        "\n",
        "\n"
      ]
    }
  ],
  "metadata": {
    "colab": {
      "provenance": []
    },
    "kernelspec": {
      "display_name": "Python 3 (ipykernel)",
      "language": "python",
      "name": "python3"
    },
    "language_info": {
      "codemirror_mode": {
        "name": "ipython",
        "version": 3
      },
      "file_extension": ".py",
      "mimetype": "text/x-python",
      "name": "python",
      "nbconvert_exporter": "python",
      "pygments_lexer": "ipython3",
      "version": "3.13.5"
    }
  },
  "nbformat": 4,
  "nbformat_minor": 5
}